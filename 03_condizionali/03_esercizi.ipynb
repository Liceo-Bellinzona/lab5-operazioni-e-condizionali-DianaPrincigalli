{
 "cells": [
  {
   "cell_type": "markdown",
   "metadata": {},
   "source": [
    "# Altezza\n",
    "\n",
    "Viene chiesto di scrivere un programma che chieda all'utente di fornire la sua altezza in centimetri. Se l'altezza è maggiore o uguale a 180 il programma deve stampare la seguente dicitura: ``Sei una persona molto alta``.\n",
    "\n",
    "Tradurre il diagramma di flusso in un codice Python che risolva il problema.\n"
   ]
  },
  {
   "cell_type": "code",
   "execution_count": 2,
   "metadata": {},
   "outputs": [
    {
     "name": "stdout",
     "output_type": "stream",
     "text": [
      "Sei una persona alta\n"
     ]
    }
   ],
   "source": [
    "altezza = float (input (\"scrivi la tua altezza in centimetri\"))\n",
    "if altezza >= 180: \n",
    "    print (\"Sei una persona alta\")"
   ]
  },
  {
   "cell_type": "markdown",
   "metadata": {},
   "source": [
    "# Altezza 2\n",
    " Riprendere l'esercizio precedente ed aggiungere il codice che permetta al programma di scrivere ``Sei una persona di media altezza`` se l'altezza è inferiore a 180 cm.\n",
    "\n",
    " Tradurre il diagramma di flusso in un codice Python che risolva il problema."
   ]
  },
  {
   "cell_type": "code",
   "execution_count": 3,
   "metadata": {},
   "outputs": [
    {
     "name": "stdout",
     "output_type": "stream",
     "text": [
      "Sei una persona di media altezza\n"
     ]
    }
   ],
   "source": [
    "altezza = float (input (\"scrivi la tua altezza in centimetri\"))\n",
    "if altezza >= 180: \n",
    "    print (\"Sei una persona alta\")\n",
    "if altezza < 180:\n",
    "    print (\"Sei una persona di media altezza\")"
   ]
  },
  {
   "cell_type": "markdown",
   "metadata": {},
   "source": [
    "# Area rettangolo\n",
    "L'area di un rettangolo è uguale alla sua base per la sua altezza. Scrivere un programma che chieda la base e l'altezza di due rettangoli e successivamente indichi quale dei due rettangoli ha l'area maggiore."
   ]
  },
  {
   "cell_type": "code",
   "execution_count": 3,
   "metadata": {},
   "outputs": [
    {
     "name": "stdout",
     "output_type": "stream",
     "text": [
      "L'area del rettangolo 1 equivale a 100.0 centimetri quadrati\n",
      "L'area del rettangolo 2 equivale 100.0 centimetri quadrati\n",
      "L'area dei due triangoli è uguale\n"
     ]
    }
   ],
   "source": [
    "base_rett_1 = float (input (\"Scrivi la lunghezza della base in centimetri del rettangolo 1\"))\n",
    "altezza_rett_1 = float (input (\"Scrivi la lunghezza dell'altezza in centimetri del rettangolo 1\"))\n",
    "area_rett_1 : float = base_rett_1*altezza_rett_1\n",
    "print(f\"L'area del rettangolo 1 equivale a {area_rett_1} centimetri quadrati\")\n",
    "base_rett_2 = float (input (\"Scrivi la lunghezza della base in centimetri del rettangolo 2\"))\n",
    "altezza_rett_2 = float (input (\"Scrivi la lunghezza dell'altezza in centimetri del rettangolo 2\"))\n",
    "area_rett_2 : float = base_rett_2*altezza_rett_2\n",
    "print (f\"L'area del rettangolo 2 equivale {area_rett_2} centimetri quadrati\")\n",
    "if area_rett_1 > area_rett_2:\n",
    "    print (\"L'area del rettangolo 1 è maggiore all'area del rettangolo 2\")\n",
    "elif area_rett_1 < area_rett_2: \n",
    "    print (\"L'area del rettangolo 2 è maggiore  all'area del rettangolo 1\")\n",
    "\n",
    "else :\n",
    "    print (\"L'area dei due triangoli è uguale\")\n",
    "\n",
    "           "
   ]
  },
  {
   "cell_type": "markdown",
   "metadata": {},
   "source": [
    "# Pari e dispari\n",
    "Scrivere un programma che chieda all'utente di indicare un numero intero. Se il numero è pari, il programma deve visualizzare: ``Il tuo numero è pari`` , se invece il numero è dispari deve visualizzare: ``Il tuo numero è dispari``."
   ]
  },
  {
   "cell_type": "code",
   "execution_count": 6,
   "metadata": {},
   "outputs": [
    {
     "name": "stdout",
     "output_type": "stream",
     "text": [
      "Il numero è dispari\n"
     ]
    }
   ],
   "source": [
    "numero1 = int (input (\"inserisci un numero intero\"))\n",
    "\n",
    "if numero1 % 2 == 0:\n",
    "    print (f\"Il numero {numero1} è pari \") \n",
    "else:\n",
    "    print (f\"Il numero è dispari\")\n"
   ]
  },
  {
   "cell_type": "markdown",
   "metadata": {},
   "source": [
    "# Password\n",
    " Scrivere un programma che chieda all'utente di inserire una password a proprio piacimento. Se la password è composta da almeno 8 caratteri il programma deve visualizzare: ``La password è stata accettata`` , altrimenti ``La password inserita è troppo corta``"
   ]
  },
  {
   "cell_type": "code",
   "execution_count": 23,
   "metadata": {},
   "outputs": [
    {
     "name": "stdout",
     "output_type": "stream",
     "text": [
      "la password è stata accettata\n"
     ]
    }
   ],
   "source": [
    "password = str (input (\"inserisci la tua password\"))\n",
    "lunghezza:int=len(password)\n",
    "if lunghezza >= 8:\n",
    "    print (\"la password è stata accettata\")\n",
    "else:\n",
    "    print (f\"la password non è stata accettata, perché è troppo corta, ti mancano {8-lunghezza} caratteri\")\n"
   ]
  },
  {
   "cell_type": "markdown",
   "metadata": {},
   "source": [
    "# Assegnazioni\n",
    "\n",
    "Scrivere una istruzione ``if`` che assegni 0 alla variabile ``b`` e assegni 1 alla variabile ``c``  se la variabile ``a`` è minore di 10."
   ]
  },
  {
   "cell_type": "code",
   "execution_count": 11,
   "metadata": {},
   "outputs": [],
   "source": [
    "a = float (input (\"inserisci un numero\"))\n",
    "if a < 10:\n",
    "    print (\"b=0 e c=1 \")"
   ]
  },
  {
   "cell_type": "markdown",
   "metadata": {},
   "source": [
    "# Assegnazioni 2\n",
    "Scrivere una istruzione ``if-else `` che assegni 0 alla variabile ``b`` se la variabile ``a`` è minore di 10. In caso contrario, l'istruzione deve assegnare 99 alla variabile ``b``."
   ]
  },
  {
   "cell_type": "code",
   "execution_count": 13,
   "metadata": {},
   "outputs": [
    {
     "name": "stdout",
     "output_type": "stream",
     "text": [
      "b=99\n"
     ]
    }
   ],
   "source": [
    "a = float (input (\"inserisci un numero\"))\n",
    "if a < 10:\n",
    "    print (\"b=0\")\n",
    "else: \n",
    "    print (\"b=99\")"
   ]
  },
  {
   "cell_type": "code",
   "execution_count": null,
   "metadata": {},
   "outputs": [],
   "source": []
  }
 ],
 "metadata": {
  "kernelspec": {
   "display_name": "Python 3",
   "language": "python",
   "name": "python3"
  },
  "language_info": {
   "codemirror_mode": {
    "name": "ipython",
    "version": 3
   },
   "file_extension": ".py",
   "mimetype": "text/x-python",
   "name": "python",
   "nbconvert_exporter": "python",
   "pygments_lexer": "ipython3",
   "version": "3.10.13"
  }
 },
 "nbformat": 4,
 "nbformat_minor": 2
}
