{
 "cells": [
  {
   "cell_type": "markdown",
   "metadata": {},
   "source": [
    "# Classificatore per età\n",
    "  Scrivere un programma che chieda all'utente di inserire l'età di una persona. Il programma dovrebbe visualizzare un messaggio che indica se la persona è un bebè, un bambino, un teeneger o un adulto secondo le seguenti linee guida:\n",
    "  \n",
    "- Se una persona ha 1 anno o meno, è un bebè\n",
    "- Se una persona ha più di 1 anno (ma meno o uguale a 13), è un bambino\n",
    "- Se una persona ha più di 13 anni (ma meno o uguale a 20), è un teeneger\n",
    "- Se una persona ha più di 20 anni è un adulto\n",
    "\n",
    "\n",
    "1. Preparare un diagramma di flusso, che mostri i passi necessari per raggiungere l'obiettivo\n",
    "2. Tradurre il diagramma di flusso in un codice Python\n"
   ]
  },
  {
   "cell_type": "code",
   "execution_count": 1,
   "metadata": {
    "metadata": {}
   },
   "outputs": [
    {
     "name": "stdout",
     "output_type": "stream",
     "text": [
      "la persona è un teenager\n"
     ]
    }
   ],
   "source": [
    "età = float(input (\"inserire l'età della persona\"))\n",
    "if età <= 1:\n",
    "    print (\"la persona è un bebè\")\n",
    "elif età <= 13:\n",
    "    print (\"la persona è un bambino\") \n",
    "elif età <= 20: \n",
    "    print (\"la persona è un teenager\")   \n",
    "else : \n",
    "    print (\"la persona è un adulto\")"
   ]
  },
  {
   "cell_type": "markdown",
   "metadata": {},
   "source": [
    "# Numeri romani\n",
    "Scrivere un programma che chieda all'utente di inserire un numero nell'intervallo fra 1 e 10. Il programma dovrebbe visualizzare la versione in numeri romani di quel numero. Se il numero si trova al di fuori dell'intervallo fra 1 e 10, il programma dovrebbe visualizzare un messaggio di errore. "
   ]
  },
  {
   "cell_type": "code",
   "execution_count": 3,
   "metadata": {
    "metadata": {}
   },
   "outputs": [
    {
     "name": "stdout",
     "output_type": "stream",
     "text": [
      "il numero doveva essere tra 1 e 10, tu hai inserito 15\n"
     ]
    }
   ],
   "source": [
    "numero = int(input (\"inserisci un numero tra 1 e 10\"))\n",
    "if numero == 1:\n",
    "    print (\"I\")\n",
    "elif numero == 2:\n",
    "    print (\"II\")\n",
    "elif numero == 3:\n",
    "    print (\"III\")\n",
    "elif numero == 4:\n",
    "    print (\"IV\")\n",
    "elif numero == 5:\n",
    "    print (\"V\")\n",
    "elif numero == 6: \n",
    "    print (\"VI\")\n",
    "elif numero == 7:\n",
    "    print (\"VII\")\n",
    "elif numero == 8:\n",
    "    print (\"VIII\")\n",
    "elif numero == 9:\n",
    "    print (\"IX\")\n",
    "elif numero == 10:\n",
    "    print (\"X\")\n",
    "else:\n",
    "    print (f\"il numero doveva essere tra 1 e 10, tu hai inserito {numero}\")"
   ]
  },
  {
   "cell_type": "markdown",
   "metadata": {},
   "source": [
    "# Vendite software 1\n",
    "Un'azienda di software vende un pacchetto al prezzo di 99 CHF. Possono essere fatti sconti quantità secondo questa tabella:\n",
    "\n",
    "| Quantità | Sconto |\n",
    "| ---- | ---|\n",
    "| 10-19 | 10% |\n",
    "| 20-49 | 20% |\n",
    "|50-99 | 30% |\n",
    "|100 o più | 40% |\n",
    "\n",
    "\n",
    "Scrivere un programma che chieda all'utente di immettere il numero di pacchetti acquistati. Il programma dovrebbe quindi visualizzare la percentuale di sconto da applicare."
   ]
  },
  {
   "cell_type": "code",
   "execution_count": 11,
   "metadata": {
    "metadata": {}
   },
   "outputs": [
    {
     "name": "stdout",
     "output_type": "stream",
     "text": [
      "avrai diritto al 40% di sconto\n"
     ]
    }
   ],
   "source": [
    "quantità = int(input(\"inserisci la quantità di pacchetti\"))\n",
    "if quantità >=10 and quantità <=19:\n",
    "    print (\"avrai diritto al 10% di sconto\")\n",
    "elif quantità >=20 and quantità <=49:\n",
    "    print (\"avrai diritto al 20% di sconto\")\n",
    "elif quantità >=50 and quantità <=99:\n",
    "    print (\"avrai diritto al 30% di sconto\")\n",
    "elif quantità >=100: \n",
    "    print (\"avrai diritto al 40% di sconto\")\n"
   ]
  },
  {
   "cell_type": "markdown",
   "metadata": {},
   "source": [
    "# Vendita software 2\n",
    "Modificare il programma precedente in modo da visualizzare lo sconto (se c'è) e l'ammontare totale del pagamento dopo aver applicato lo sconto."
   ]
  },
  {
   "cell_type": "code",
   "execution_count": 12,
   "metadata": {
    "metadata": {}
   },
   "outputs": [
    {
     "name": "stdout",
     "output_type": "stream",
     "text": [
      "avrai diritto al 30% di sconto, per cui pagherai 5751\n"
     ]
    }
   ],
   "source": [
    "quantità = int(input(\"inserisci la quantità di pacchetti\"))\n",
    "prezzo_1pz : int = 99\n",
    "pagamento_finale : int = quantità*99\n",
    "if quantità >=10 and quantità <=19:\n",
    " \n",
    "    print (f\"avrai diritto al 10% di sconto, per cui pagherai {int(pagamento_finale - pagamento_finale/100*10)}franchi\")\n",
    "elif quantità >=20 and quantità <=49:\n",
    "    print (f\"avrai diritto al 20% di sconto, per cui pagherai {int(pagamento_finale - pagamento_finale/100*20)}franchi\")\n",
    "elif quantità >=50 and quantità <=99:\n",
    "    print (f\"avrai diritto al 30% di sconto, per cui pagherai {int(pagamento_finale - pagamento_finale/100*30)}franchi\")\n",
    "elif quantità >=100: \n",
    "    print (f\"avrai diritto al 40% di sconto, per cui pagherai {int(pagamento_finale - pagamento_finale/100*40)}franchi\")"
   ]
  },
  {
   "cell_type": "markdown",
   "metadata": {},
   "source": [
    "# Giorni mese di febbraio\n",
    "Di solito febbraio ha 28 giorni, ma se è un anno bisestile ne ha 29. Scrivere un programma che richieda all'utente di inserire un anno. Il programma deve poi visualizzare il numero dei giorni di febbraio di quell'anno. \n",
    "Per identificare gli anni bisestili utilizzare i seguenti criteri:\n",
    "\n",
    "- Determinare se l'anno sia divisibile per 100. Se lo è, è un anno bisestile se e solo se è divisibile anche per 400. Ad esempio, 2000 è un anno bisestile, 2100 non lo è\n",
    "- Se l'anno non è divisibile per 100, è bisestile se e solo se è divisibile per 4. Ad esempio, 2008 è un anno bisestile, 2009 no\n",
    "\n",
    "Il programma va scritto in due versioni:\n",
    "1. Versione 1: utilizzando un `` if`` annidato\n",
    "2. Versione 2: utilizzando gli operatori logici ``and`` , ``or`` e ``not``"
   ]
  },
  {
   "cell_type": "code",
   "execution_count": 15,
   "metadata": {
    "metadata": {}
   },
   "outputs": [],
   "source": [
    "# Prima versione\n",
    "anno = int(input(\"insrisci l'anno che vuoi analizzare\"))\n",
    "if anno % 100 == 0 and anno % 400 == 0:\n",
    "    print (\"febbraio avrà 29 giorni\")\n",
    "else :\n",
    "    print (\"febbraio avrà 28 giorni\")\n"
   ]
  },
  {
   "cell_type": "code",
   "execution_count": 16,
   "metadata": {
    "metadata": {}
   },
   "outputs": [
    {
     "name": "stdout",
     "output_type": "stream",
     "text": [
      "febbraio avrà 29 giorni\n"
     ]
    }
   ],
   "source": [
    "# Seconda versione\n",
    "anno = int(input(\"inserisci l'anno che vuoi analizzare\"))\n",
    "if anno %100 != 0 and anno %4 == 0:\n",
    "    print (\"febbraio avrà 29 giorni\")\n",
    "else:\n",
    "    print (\"febbraio avrà 28 giorni\")"
   ]
  },
  {
   "cell_type": "markdown",
   "metadata": {},
   "source": [
    "# Indice di massa corporea\n",
    "Scrivere un programma che calcoli l'indice di massa corporea (BMI, body mass index). Il BMI viene spesso utilizzato per determinare se una persona è sovrappeso o sottopeso per la sua altezza. L'indice di massa corporea viene calcolato con questa formula: $$BMI = \\frac{peso} {altezza^{2}}$$ dove ``peso`` è espresso in chilogrammi e ``altezza`` è espressa in metri. Il programma chiede all'utente di inserire il proprio peso e la propria altezza e visualizza quindi il BMI dell'utente. Il programma dovrebbe inoltre mostrare un messaggio che informi se l'utente ha un peso ottimale, se è sottopeso o se è sovrappeso. Il peso di una persona è ottimale se il BMI è fra 18.5 e 25; se il BMI è minore di 18.5 la persona è considerata sottopeso; se invece è superiore a 25 la persona è considerata sovrappeso."
   ]
  },
  {
   "cell_type": "code",
   "execution_count": 24,
   "metadata": {
    "metadata": {}
   },
   "outputs": [
    {
     "name": "stdout",
     "output_type": "stream",
     "text": [
      "la massa della persona è 27.3 per cui è sovrappeso\n"
     ]
    }
   ],
   "source": [
    "altezza = float(input (\"inserisci l'altezza in metri\"))\n",
    "massa = float(input(\"inserisci la massa corporea in chilogrammi\"))\n",
    "BMI = (massa)/(altezza**2)\n",
    "if BMI <18.5:\n",
    "    print (f\"la massa della persona è {BMI:.1f} per cui è sottopeso\")\n",
    "elif BMI >25:\n",
    "    print (f\"la massa della persona è {BMI:.1f} per cui è sovrappeso\")\n",
    "elif BMI >= 18.5 and BMI <=25:\n",
    "    print (f\"la massa della persona è {BMI:.1f} per cui è ottimale\")\n"
   ]
  },
  {
   "cell_type": "markdown",
   "metadata": {},
   "source": []
  }
 ],
 "metadata": {
  "kernelspec": {
   "display_name": "Python 3",
   "language": "python",
   "name": "python3"
  },
  "language_info": {
   "codemirror_mode": {
    "name": "ipython",
    "version": 3
   },
   "file_extension": ".py",
   "mimetype": "text/x-python",
   "name": "python",
   "nbconvert_exporter": "python",
   "pygments_lexer": "ipython3",
   "version": "3.10.13"
  }
 },
 "nbformat": 4,
 "nbformat_minor": 2
}
