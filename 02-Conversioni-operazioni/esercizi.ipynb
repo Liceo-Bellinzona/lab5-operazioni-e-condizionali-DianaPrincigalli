{
 "cells": [
  {
   "cell_type": "markdown",
   "metadata": {},
   "source": [
    "# Paga lorda\n",
    "Scrivere un programma che calcoli e visualizzi la paga lorda di un dipendente a ore. I\n",
    "passaggi da seguire sono i seguenti:\n",
    "1. Ottenere il numero di ore lavorative;\n",
    "2. ottenere retribuzione oraria;\n",
    "3. moltiplicare il numero di ore lavorate per la retribuzione oraria;\n",
    "4. visualizzare il risultato del calcolo eseguito al passaggio 3."
   ]
  },
  {
   "cell_type": "code",
   "execution_count": 7,
   "metadata": {},
   "outputs": [
    {
     "name": "stdout",
     "output_type": "stream",
     "text": [
      "Hai lavorato 10.5 ore per cui il tuo salario corrisponde a 131.25 franchi\n"
     ]
    }
   ],
   "source": [
    "ore_lavorative : float = 10.5\n",
    "retribuzione : float = 12.5\n",
    "salario : float = (retribuzione*ore_lavorative)\n",
    "print (f\"Hai lavorato {ore_lavorative} ore per cui il tuo salario corrisponde a {salario} franchi\")\n"
   ]
  },
  {
   "cell_type": "markdown",
   "metadata": {},
   "source": [
    "# Calcolo della superficie\n",
    "Un acro di terra corrisponde a circa 4046 metri quadrati. Scrivere un programma che chieda\n",
    "all’utente di inserire la superficie di un terreno in metri quadrati e calcoli quindi il numero\n",
    "di acri di quel terreno."
   ]
  },
  {
   "cell_type": "markdown",
   "metadata": {},
   "source": []
  },
  {
   "cell_type": "code",
   "execution_count": 22,
   "metadata": {},
   "outputs": [
    {
     "name": "stdout",
     "output_type": "stream",
     "text": [
      "Il quantitativo di 9836.0 metri quadrati corrisponde a 2.431043005437469 acri\n"
     ]
    }
   ],
   "source": [
    "un_acro : float = 4046.0\n",
    "metri_quadrati: float = 9836.0\n",
    "n_acri : float = (metri_quadrati/un_acro)\n",
    "print (f\"Il quantitativo di {metri_quadrati} metri quadrati corrisponde a {n_acri} acri\")"
   ]
  },
  {
   "cell_type": "markdown",
   "metadata": {},
   "source": [
    "# Previsioni delle vendite \n",
    "Un’azienda ha determinato che il suo profitto annuale è tipicamente il 23% del totale delle\n",
    "vendite. \n",
    "Scrivere un programma che chieda all’utente di inserire il totale delle vendite previste e visualizzi quindi il profitto che si terrà da questa somma.\n",
    "\n",
    "*Suggerimento: non esiste il tipo di dato 23%. È necessario utilizzare gli operatori di\n",
    "moltiplicazione e divisione per ottenere la percentuale sul totale delle vendite.*\n"
   ]
  },
  {
   "cell_type": "markdown",
   "metadata": {},
   "source": []
  },
  {
   "cell_type": "code",
   "execution_count": 24,
   "metadata": {},
   "outputs": [
    {
     "name": "stdout",
     "output_type": "stream",
     "text": [
      "Il totale delle vendite corrisponde a 2000 franchi, per cui il profitto è di 460.0 franchi\n"
     ]
    }
   ],
   "source": [
    "tot_vendite : float = 2000\n",
    "profitto : float = (tot_vendite/100)*23\n",
    "print (f\"Il totale delle vendite corrisponde a {tot_vendite} franchi, per cui il profitto è di {profitto} franchi\")"
   ]
  },
  {
   "cell_type": "markdown",
   "metadata": {},
   "source": [
    "# IVA \n",
    "Scrivere un programma che chieda all’utente di inserire il costo totale di un acquisto al netto\n",
    "di Iva. \n",
    "\n",
    "Si supponga che l’IVA sia pari all’8%. \n",
    "\n",
    "Il programma deve visualizzare il costo totale\n",
    "dell’acquisto al netto di IVA, l’IVA e il costo totale dell’acquisto (quindi IVA compresa)."
   ]
  },
  {
   "cell_type": "code",
   "execution_count": 25,
   "metadata": {},
   "outputs": [
    {
     "name": "stdout",
     "output_type": "stream",
     "text": [
      "Caro cliente il valore dell'IVA equivale a 96.0 franchi, mentre il valore dell'acquisto totale netto dell'IVA corrisponde a 1200 franchi, per cui il valore del costo totale con IVA compresa è di 1296.0 franchi\n"
     ]
    }
   ],
   "source": [
    "costo_tot_acquisto : float = 1200\n",
    "IVA : float = (costo_tot_acquisto/100)*8\n",
    "IVA_compresa : float = IVA+costo_tot_acquisto\n",
    "print(f\"Caro cliente il valore dell'IVA equivale a {IVA} franchi, mentre il valore dell'acquisto totale netto dell'IVA corrisponde a {costo_tot_acquisto} franchi, per cui il valore del costo totale con IVA compresa è di {IVA_compresa} franchi\")"
   ]
  },
  {
   "cell_type": "markdown",
   "metadata": {},
   "source": [
    "# Biscotti #\n",
    "\n",
    "Si sa che per fare 48 biscotti servono 150gr di zucchero, 100 di burro e 275 di farina. \n",
    "Il programma deve saper calcolare il quantitativo specifico di ogni ingrediente dal momento che la quantità dei biscotti varia."
   ]
  },
  {
   "cell_type": "code",
   "execution_count": 1,
   "metadata": {},
   "outputs": [
    {
     "name": "stdout",
     "output_type": "stream",
     "text": [
      "Per fare 20 biscotti, servono  41.7 grammi di burro,  114.6 grammi di farina e  62.5 grammi di zucchero\n"
     ]
    }
   ],
   "source": [
    "\n",
    "numero_biscotti = int(input(f\"inserisci il quantitativo totale di biscotti\"))\n",
    "burro : float = ((100/48)*numero_biscotti)\n",
    "farina : float = ((275/48)*numero_biscotti)\n",
    "zucchero : float = ((150/48)*numero_biscotti)\n",
    "print(f\"Per fare {numero_biscotti:.0f} biscotti, servono {burro: .1f} grammi di burro, {farina: .1f} grammi di farina e {zucchero: .1f} grammi di zucchero\")\n",
    "\n"
   ]
  },
  {
   "cell_type": "code",
   "execution_count": null,
   "metadata": {},
   "outputs": [],
   "source": []
  }
 ],
 "metadata": {
  "kernelspec": {
   "display_name": "work",
   "language": "python",
   "name": "python3"
  },
  "language_info": {
   "codemirror_mode": {
    "name": "ipython",
    "version": 3
   },
   "file_extension": ".py",
   "mimetype": "text/x-python",
   "name": "python",
   "nbconvert_exporter": "python",
   "pygments_lexer": "ipython3",
   "version": "3.10.13"
  }
 },
 "nbformat": 4,
 "nbformat_minor": 2
}
